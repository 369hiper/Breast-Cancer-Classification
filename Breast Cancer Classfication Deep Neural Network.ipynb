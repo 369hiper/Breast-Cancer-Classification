{
 "cells": [
  {
   "cell_type": "code",
   "execution_count": 1,
   "metadata": {},
   "outputs": [
    {
     "name": "stderr",
     "output_type": "stream",
     "text": [
      "Using TensorFlow backend.\n"
     ]
    }
   ],
   "source": [
    "import numpy as np\n",
    "import pandas as pd\n",
    "import seaborn as sns\n",
    "import keras"
   ]
  },
  {
   "cell_type": "code",
   "execution_count": 2,
   "metadata": {},
   "outputs": [],
   "source": [
    "from sklearn.datasets import load_breast_cancer"
   ]
  },
  {
   "cell_type": "code",
   "execution_count": 3,
   "metadata": {},
   "outputs": [],
   "source": [
    "cancer = load_breast_cancer()"
   ]
  },
  {
   "cell_type": "code",
   "execution_count": 5,
   "metadata": {},
   "outputs": [
    {
     "ename": "AttributeError",
     "evalue": "head",
     "output_type": "error",
     "traceback": [
      "\u001b[1;31m---------------------------------------------------------------------------\u001b[0m",
      "\u001b[1;31mKeyError\u001b[0m                                  Traceback (most recent call last)",
      "\u001b[1;32mC:\\ProgramData\\Anaconda3\\lib\\site-packages\\sklearn\\utils\\__init__.py\u001b[0m in \u001b[0;36m__getattr__\u001b[1;34m(self, key)\u001b[0m\n\u001b[0;32m    101\u001b[0m         \u001b[1;32mtry\u001b[0m\u001b[1;33m:\u001b[0m\u001b[1;33m\u001b[0m\u001b[1;33m\u001b[0m\u001b[0m\n\u001b[1;32m--> 102\u001b[1;33m             \u001b[1;32mreturn\u001b[0m \u001b[0mself\u001b[0m\u001b[1;33m[\u001b[0m\u001b[0mkey\u001b[0m\u001b[1;33m]\u001b[0m\u001b[1;33m\u001b[0m\u001b[1;33m\u001b[0m\u001b[0m\n\u001b[0m\u001b[0;32m    103\u001b[0m         \u001b[1;32mexcept\u001b[0m \u001b[0mKeyError\u001b[0m\u001b[1;33m:\u001b[0m\u001b[1;33m\u001b[0m\u001b[1;33m\u001b[0m\u001b[0m\n",
      "\u001b[1;31mKeyError\u001b[0m: 'head'",
      "\nDuring handling of the above exception, another exception occurred:\n",
      "\u001b[1;31mAttributeError\u001b[0m                            Traceback (most recent call last)",
      "\u001b[1;32m<ipython-input-5-fabe92d54eb0>\u001b[0m in \u001b[0;36m<module>\u001b[1;34m\u001b[0m\n\u001b[1;32m----> 1\u001b[1;33m \u001b[0mcancer\u001b[0m\u001b[1;33m.\u001b[0m\u001b[0mhead\u001b[0m\u001b[1;33m(\u001b[0m\u001b[1;33m)\u001b[0m\u001b[1;33m\u001b[0m\u001b[1;33m\u001b[0m\u001b[0m\n\u001b[0m",
      "\u001b[1;32mC:\\ProgramData\\Anaconda3\\lib\\site-packages\\sklearn\\utils\\__init__.py\u001b[0m in \u001b[0;36m__getattr__\u001b[1;34m(self, key)\u001b[0m\n\u001b[0;32m    102\u001b[0m             \u001b[1;32mreturn\u001b[0m \u001b[0mself\u001b[0m\u001b[1;33m[\u001b[0m\u001b[0mkey\u001b[0m\u001b[1;33m]\u001b[0m\u001b[1;33m\u001b[0m\u001b[1;33m\u001b[0m\u001b[0m\n\u001b[0;32m    103\u001b[0m         \u001b[1;32mexcept\u001b[0m \u001b[0mKeyError\u001b[0m\u001b[1;33m:\u001b[0m\u001b[1;33m\u001b[0m\u001b[1;33m\u001b[0m\u001b[0m\n\u001b[1;32m--> 104\u001b[1;33m             \u001b[1;32mraise\u001b[0m \u001b[0mAttributeError\u001b[0m\u001b[1;33m(\u001b[0m\u001b[0mkey\u001b[0m\u001b[1;33m)\u001b[0m\u001b[1;33m\u001b[0m\u001b[1;33m\u001b[0m\u001b[0m\n\u001b[0m\u001b[0;32m    105\u001b[0m \u001b[1;33m\u001b[0m\u001b[0m\n\u001b[0;32m    106\u001b[0m     \u001b[1;32mdef\u001b[0m \u001b[0m__setstate__\u001b[0m\u001b[1;33m(\u001b[0m\u001b[0mself\u001b[0m\u001b[1;33m,\u001b[0m \u001b[0mstate\u001b[0m\u001b[1;33m)\u001b[0m\u001b[1;33m:\u001b[0m\u001b[1;33m\u001b[0m\u001b[1;33m\u001b[0m\u001b[0m\n",
      "\u001b[1;31mAttributeError\u001b[0m: head"
     ]
    }
   ],
   "source": [
    "cancer.head()"
   ]
  },
  {
   "cell_type": "code",
   "execution_count": 6,
   "metadata": {},
   "outputs": [],
   "source": [
    "df_cancer = pd.DataFrame(np.c_[cancer['data'], cancer['target']], columns= np.append(cancer['feature_names'], ['target']))"
   ]
  },
  {
   "cell_type": "code",
   "execution_count": 7,
   "metadata": {},
   "outputs": [],
   "source": [
    "# splitting Dependent and Independent Variable\n",
    "X = df_cancer.drop(['target'], axis = 1)\n",
    "y = df_cancer['target']"
   ]
  },
  {
   "cell_type": "code",
   "execution_count": 8,
   "metadata": {},
   "outputs": [],
   "source": [
    "# Train Test Split\n",
    "from sklearn.model_selection import train_test_split\n",
    "X_train, X_test, y_train, y_test = train_test_split(X,y , test_size=0.3, random_state=432)"
   ]
  },
  {
   "cell_type": "code",
   "execution_count": 9,
   "metadata": {},
   "outputs": [
    {
     "data": {
      "text/plain": [
       "pandas.core.frame.DataFrame"
      ]
     },
     "execution_count": 9,
     "metadata": {},
     "output_type": "execute_result"
    }
   ],
   "source": [
    "type(X_train)"
   ]
  },
  {
   "cell_type": "code",
   "execution_count": 10,
   "metadata": {},
   "outputs": [],
   "source": [
    "# Deep Neural Network\n",
    "from keras.models import Sequential\n",
    "from keras.layers import Dense\n",
    "from keras.layers import Dropout\n",
    " "
   ]
  },
  {
   "cell_type": "code",
   "execution_count": 71,
   "metadata": {},
   "outputs": [],
   "source": [
    "model = Sequential([\n",
    "    Dense(units=19, input_dim = 30,activation='relu'),\n",
    "    Dense(units=22,activation='relu'),\n",
    "    Dropout(0.5),\n",
    "    Dense(23,activation='relu'),\n",
    "    Dense(20,activation='relu'),\n",
    "    Dense(1,activation='sigmoid'),\n",
    "])"
   ]
  },
  {
   "cell_type": "code",
   "execution_count": 72,
   "metadata": {},
   "outputs": [
    {
     "name": "stdout",
     "output_type": "stream",
     "text": [
      "_________________________________________________________________\n",
      "Layer (type)                 Output Shape              Param #   \n",
      "=================================================================\n",
      "dense_71 (Dense)             (None, 19)                589       \n",
      "_________________________________________________________________\n",
      "dense_72 (Dense)             (None, 22)                440       \n",
      "_________________________________________________________________\n",
      "dropout_15 (Dropout)         (None, 22)                0         \n",
      "_________________________________________________________________\n",
      "dense_73 (Dense)             (None, 23)                529       \n",
      "_________________________________________________________________\n",
      "dense_74 (Dense)             (None, 20)                480       \n",
      "_________________________________________________________________\n",
      "dense_75 (Dense)             (None, 1)                 21        \n",
      "=================================================================\n",
      "Total params: 2,059\n",
      "Trainable params: 2,059\n",
      "Non-trainable params: 0\n",
      "_________________________________________________________________\n"
     ]
    }
   ],
   "source": [
    "model.summary()"
   ]
  },
  {
   "cell_type": "code",
   "execution_count": 73,
   "metadata": {
    "scrolled": false
   },
   "outputs": [
    {
     "name": "stdout",
     "output_type": "stream",
     "text": [
      "Epoch 1/50\n",
      "398/398 [==============================] - 1s 3ms/step - loss: 5.1424 - acc: 0.5578\n",
      "Epoch 2/50\n",
      "398/398 [==============================] - 0s 264us/step - loss: 4.7036 - acc: 0.6055\n",
      "Epoch 3/50\n",
      "398/398 [==============================] - 0s 224us/step - loss: 3.5492 - acc: 0.6357\n",
      "Epoch 4/50\n",
      "398/398 [==============================] - 0s 232us/step - loss: 2.2477 - acc: 0.6382\n",
      "Epoch 5/50\n",
      "398/398 [==============================] - 0s 565us/step - loss: 1.0299 - acc: 0.7111\n",
      "Epoch 6/50\n",
      "398/398 [==============================] - 0s 790us/step - loss: 0.6985 - acc: 0.7764\n",
      "Epoch 7/50\n",
      "398/398 [==============================] - 0s 803us/step - loss: 0.4472 - acc: 0.8417\n",
      "Epoch 8/50\n",
      "398/398 [==============================] - 0s 537us/step - loss: 0.5562 - acc: 0.8216\n",
      "Epoch 9/50\n",
      "398/398 [==============================] - 0s 509us/step - loss: 0.4015 - acc: 0.8518\n",
      "Epoch 10/50\n",
      "398/398 [==============================] - 0s 694us/step - loss: 0.4778 - acc: 0.8367\n",
      "Epoch 11/50\n",
      "398/398 [==============================] - 0s 735us/step - loss: 0.5005 - acc: 0.8241\n",
      "Epoch 12/50\n",
      "398/398 [==============================] - 0s 429us/step - loss: 0.5506 - acc: 0.7940\n",
      "Epoch 13/50\n",
      "398/398 [==============================] - 0s 434us/step - loss: 0.4103 - acc: 0.8342\n",
      "Epoch 14/50\n",
      "398/398 [==============================] - 0s 346us/step - loss: 0.4844 - acc: 0.8392\n",
      "Epoch 15/50\n",
      "398/398 [==============================] - 0s 287us/step - loss: 0.4406 - acc: 0.8266\n",
      "Epoch 16/50\n",
      "398/398 [==============================] - 0s 377us/step - loss: 0.4398 - acc: 0.8568\n",
      "Epoch 17/50\n",
      "398/398 [==============================] - 0s 325us/step - loss: 0.3960 - acc: 0.8543\n",
      "Epoch 18/50\n",
      "398/398 [==============================] - 0s 702us/step - loss: 0.3698 - acc: 0.8568\n",
      "Epoch 19/50\n",
      "398/398 [==============================] - 0s 522us/step - loss: 0.3188 - acc: 0.8945\n",
      "Epoch 20/50\n",
      "398/398 [==============================] - 0s 818us/step - loss: 0.3425 - acc: 0.8593\n",
      "Epoch 21/50\n",
      "398/398 [==============================] - 0s 819us/step - loss: 0.3222 - acc: 0.8668\n",
      "Epoch 22/50\n",
      "398/398 [==============================] - 0s 972us/step - loss: 0.3554 - acc: 0.8719\n",
      "Epoch 23/50\n",
      "398/398 [==============================] - 0s 632us/step - loss: 0.3263 - acc: 0.9070\n",
      "Epoch 24/50\n",
      "398/398 [==============================] - 0s 403us/step - loss: 0.4306 - acc: 0.8291\n",
      "Epoch 25/50\n",
      "398/398 [==============================] - 0s 304us/step - loss: 0.4485 - acc: 0.8543\n",
      "Epoch 26/50\n",
      "398/398 [==============================] - 0s 520us/step - loss: 0.3451 - acc: 0.8995\n",
      "Epoch 27/50\n",
      "398/398 [==============================] - 0s 831us/step - loss: 0.3549 - acc: 0.8744\n",
      "Epoch 28/50\n",
      "398/398 [==============================] - 0s 585us/step - loss: 0.3807 - acc: 0.8744\n",
      "Epoch 29/50\n",
      "398/398 [==============================] - 0s 542us/step - loss: 0.4053 - acc: 0.8543\n",
      "Epoch 30/50\n",
      "398/398 [==============================] - 0s 403us/step - loss: 0.3103 - acc: 0.9045\n",
      "Epoch 31/50\n",
      "398/398 [==============================] - 0s 402us/step - loss: 0.3310 - acc: 0.8719\n",
      "Epoch 32/50\n",
      "398/398 [==============================] - 0s 374us/step - loss: 0.2877 - acc: 0.8920\n",
      "Epoch 33/50\n",
      "398/398 [==============================] - 0s 702us/step - loss: 0.3175 - acc: 0.8769\n",
      "Epoch 34/50\n",
      "398/398 [==============================] - 0s 835us/step - loss: 0.3450 - acc: 0.8543 0s - loss: 0.4001 - acc: 0.8\n",
      "Epoch 35/50\n",
      "398/398 [==============================] - 0s 768us/step - loss: 0.3213 - acc: 0.8894\n",
      "Epoch 36/50\n",
      "398/398 [==============================] - 0s 1ms/step - loss: 0.2494 - acc: 0.9045A: 0s - loss: 0.4218 - acc: \n",
      "Epoch 37/50\n",
      "398/398 [==============================] - 0s 636us/step - loss: 0.3138 - acc: 0.8844\n",
      "Epoch 38/50\n",
      "398/398 [==============================] - 1s 1ms/step - loss: 0.2983 - acc: 0.8819A: 0s - loss: 0.2649 - acc: \n",
      "Epoch 39/50\n",
      "398/398 [==============================] - 0s 614us/step - loss: 0.3634 - acc: 0.8794\n",
      "Epoch 40/50\n",
      "398/398 [==============================] - ETA: 0s - loss: 0.3718 - acc: 0.863 - 0s 682us/step - loss: 0.3497 - acc: 0.8643\n",
      "Epoch 41/50\n",
      "398/398 [==============================] - 0s 550us/step - loss: 0.3029 - acc: 0.8844\n",
      "Epoch 42/50\n",
      "398/398 [==============================] - 0s 953us/step - loss: 0.2913 - acc: 0.9045\n",
      "Epoch 43/50\n",
      "398/398 [==============================] - 0s 815us/step - loss: 0.3003 - acc: 0.8844\n",
      "Epoch 44/50\n",
      "398/398 [==============================] - 0s 537us/step - loss: 0.2781 - acc: 0.8920\n",
      "Epoch 45/50\n",
      "398/398 [==============================] - 0s 1ms/step - loss: 0.2480 - acc: 0.9045\n",
      "Epoch 46/50\n",
      "398/398 [==============================] - 0s 608us/step - loss: 0.2877 - acc: 0.8995\n",
      "Epoch 47/50\n",
      "398/398 [==============================] - 0s 547us/step - loss: 0.2454 - acc: 0.9045\n",
      "Epoch 48/50\n",
      "398/398 [==============================] - 0s 944us/step - loss: 0.2893 - acc: 0.9045\n",
      "Epoch 49/50\n",
      "398/398 [==============================] - 0s 701us/step - loss: 0.2440 - acc: 0.9146\n",
      "Epoch 50/50\n",
      "398/398 [==============================] - 0s 570us/step - loss: 0.2379 - acc: 0.9095\n"
     ]
    },
    {
     "data": {
      "text/plain": [
       "<keras.callbacks.History at 0x1f3d5c28358>"
      ]
     },
     "execution_count": 73,
     "metadata": {},
     "output_type": "execute_result"
    }
   ],
   "source": [
    "model.compile(optimizer='adam', loss='binary_crossentropy', metrics=['accuracy'])\n",
    "model.fit(X_train,y_train, batch_size=15, epochs=50)"
   ]
  },
  {
   "cell_type": "code",
   "execution_count": 74,
   "metadata": {},
   "outputs": [
    {
     "name": "stdout",
     "output_type": "stream",
     "text": [
      "171/171 [==============================] - 1s 3ms/step\n"
     ]
    }
   ],
   "source": [
    "score = model.evaluate(X_test, y_test)"
   ]
  },
  {
   "cell_type": "code",
   "execution_count": 75,
   "metadata": {},
   "outputs": [],
   "source": [
    "import matplotlib.pyplot as plt\n",
    "import itertools\n",
    "from sklearn import svm, datasets\n",
    "from sklearn.model_selection import train_test_split\n",
    "from sklearn.metrics import confusion_matrix"
   ]
  },
  {
   "cell_type": "code",
   "execution_count": 76,
   "metadata": {},
   "outputs": [],
   "source": [
    "def plot_confusion_matrix(cm, classes,\n",
    "                          normalize=False,\n",
    "                          title='Confusion matrix',\n",
    "                          cmap=plt.cm.Blues):\n",
    "    \"\"\"\n",
    "    This function prints and plots the confusion matrix.\n",
    "    Normalization can be applied by setting `normalize=True`.\n",
    "    \"\"\"\n",
    "    if normalize:\n",
    "        cm = cm.astype('float') / cm.sum(axis=1)[:, np.newaxis]\n",
    "        print(\"Normalized confusion matrix\")\n",
    "    else:\n",
    "        print('Confusion matrix, without normalization')\n",
    "\n",
    "    print(cm)\n",
    "\n",
    "    plt.imshow(cm, interpolation='nearest', cmap=cmap)\n",
    "    plt.title(title)\n",
    "    plt.colorbar()\n",
    "    tick_marks = np.arange(len(classes))\n",
    "    plt.xticks(tick_marks, classes, rotation=45)\n",
    "    plt.yticks(tick_marks, classes)\n",
    "\n",
    "    fmt = '.2f' if normalize else 'd'\n",
    "    thresh = cm.max() / 2.\n",
    "    for i, j in itertools.product(range(cm.shape[0]), range(cm.shape[1])):\n",
    "        plt.text(j, i, format(cm[i, j], fmt),\n",
    "                 horizontalalignment=\"center\",\n",
    "                 color=\"white\" if cm[i, j] > thresh else \"black\")\n",
    "\n",
    "    plt.ylabel('True label')\n",
    "    plt.xlabel('Predicted label')\n",
    "    plt.tight_layout()"
   ]
  },
  {
   "cell_type": "code",
   "execution_count": 77,
   "metadata": {},
   "outputs": [],
   "source": [
    "y_pred = model.predict(X_test)\n",
    "y_test = pd.DataFrame(y_test)"
   ]
  },
  {
   "cell_type": "code",
   "execution_count": 78,
   "metadata": {},
   "outputs": [],
   "source": [
    "cnf_matrix = confusion_matrix(y_test, y_pred.round())"
   ]
  },
  {
   "cell_type": "code",
   "execution_count": 79,
   "metadata": {},
   "outputs": [
    {
     "name": "stdout",
     "output_type": "stream",
     "text": [
      "[[ 46  17]\n",
      " [  1 107]]\n"
     ]
    }
   ],
   "source": [
    "print(cnf_matrix)"
   ]
  },
  {
   "cell_type": "code",
   "execution_count": 80,
   "metadata": {},
   "outputs": [
    {
     "name": "stdout",
     "output_type": "stream",
     "text": [
      "Confusion matrix, without normalization\n",
      "[[ 46  17]\n",
      " [  1 107]]\n"
     ]
    },
    {
     "data": {
      "image/png": "[encoded data removed]",
      "text/plain": [
       "<Figure size 432x288 with 2 Axes>"
      ]
     },
     "metadata": {
      "needs_background": "light"
     },
     "output_type": "display_data"
    }
   ],
   "source": [
    "plot_confusion_matrix(cnf_matrix, classes=[0,1])"
   ]
  },
  {
   "cell_type": "code",
   "execution_count": null,
   "metadata": {},
   "outputs": [],
   "source": []
  },
  {
   "cell_type": "code",
   "execution_count": null,
   "metadata": {},
   "outputs": [],
   "source": []
  }
 ],
 "metadata": {
  "kernelspec": {
   "display_name": "Python 3",
   "language": "python",
   "name": "python3"
  },
  "language_info": {
   "codemirror_mode": {
    "name": "ipython",
    "version": 3
   },
   "file_extension": ".py",
   "mimetype": "text/x-python",
   "name": "python",
   "nbconvert_exporter": "python",
   "pygments_lexer": "ipython3",
   "version": "3.7.1"
  }
 },
 "nbformat": 4,
 "nbformat_minor": 2
}
